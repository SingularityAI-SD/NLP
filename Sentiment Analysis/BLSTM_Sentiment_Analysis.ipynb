{
  "cells": [
    {
      "cell_type": "code",
      "execution_count": 18,
      "metadata": {
        "id": "L62G7LTwNzoD"
      },
      "outputs": [],
      "source": [
        "import tensorflow as tf\n",
        "\n",
        "from tensorflow.keras.preprocessing.sequence import pad_sequences"
      ]
    },
    {
      "cell_type": "markdown",
      "metadata": {
        "id": "hLcl0QHvDjTV"
      },
      "source": [
        "# Get the dataset\n",
        "\n",
        "Start by getting the dataset containing Amazon and Yelp reviews, with their related sentiment (1 for positive, 0 for negative). This dataset was originally extracted from [here](https://www.kaggle.com/marklvl/sentiment-labelled-sentences-data-set).\n"
      ]
    },
    {
      "cell_type": "code",
      "execution_count": 19,
      "metadata": {
        "id": "nCOtiRJZbxCH",
        "colab": {
          "base_uri": "https://localhost:8080/"
        },
        "outputId": "75b26057-a41b-4288-8b26-c979f99697f1"
      },
      "outputs": [
        {
          "output_type": "stream",
          "name": "stdout",
          "text": [
            "--2022-12-14 16:17:28--  https://drive.google.com/uc?id=13ySLC_ue6Umt9RJYSeM2t-V0kCv-4C-P\n",
            "Resolving drive.google.com (drive.google.com)... 173.194.194.100, 173.194.194.102, 173.194.194.139, ...\n",
            "Connecting to drive.google.com (drive.google.com)|173.194.194.100|:443... connected.\n",
            "HTTP request sent, awaiting response... 303 See Other\n",
            "Location: https://doc-08-ak-docs.googleusercontent.com/docs/securesc/ha0ro937gcuc7l7deffksulhg5h7mbp1/8859dk38g23fni4v9lu54pcgfb6bel47/1671034575000/11118900490791463723/*/13ySLC_ue6Umt9RJYSeM2t-V0kCv-4C-P?uuid=e58e57fb-b71d-48c7-886c-9c743eb3e4ab [following]\n",
            "Warning: wildcards not supported in HTTP.\n",
            "--2022-12-14 16:17:28--  https://doc-08-ak-docs.googleusercontent.com/docs/securesc/ha0ro937gcuc7l7deffksulhg5h7mbp1/8859dk38g23fni4v9lu54pcgfb6bel47/1671034575000/11118900490791463723/*/13ySLC_ue6Umt9RJYSeM2t-V0kCv-4C-P?uuid=e58e57fb-b71d-48c7-886c-9c743eb3e4ab\n",
            "Resolving doc-08-ak-docs.googleusercontent.com (doc-08-ak-docs.googleusercontent.com)... 173.194.195.132, 2607:f8b0:4001:c11::84\n",
            "Connecting to doc-08-ak-docs.googleusercontent.com (doc-08-ak-docs.googleusercontent.com)|173.194.195.132|:443... connected.\n",
            "HTTP request sent, awaiting response... 200 OK\n",
            "Length: 127831 (125K) [text/csv]\n",
            "Saving to: ‘/tmp/sentiment.csv’\n",
            "\n",
            "/tmp/sentiment.csv  100%[===================>] 124.83K  --.-KB/s    in 0.001s  \n",
            "\n",
            "2022-12-14 16:17:28 (157 MB/s) - ‘/tmp/sentiment.csv’ saved [127831/127831]\n",
            "\n"
          ]
        }
      ],
      "source": [
        "!wget --no-check-certificate \\\n",
        "    https://drive.google.com/uc?id=13ySLC_ue6Umt9RJYSeM2t-V0kCv-4C-P -O /tmp/sentiment.csv"
      ]
    },
    {
      "cell_type": "code",
      "execution_count": 20,
      "metadata": {
        "id": "XuqER_KMD-xS"
      },
      "outputs": [],
      "source": [
        "import pandas as pd\n",
        "\n",
        "dataset = pd.read_csv('/tmp/sentiment.csv')\n",
        "\n",
        "# Extract out sentences and labels\n",
        "sentences = dataset['text'].tolist()\n",
        "labels = dataset['sentiment'].tolist()"
      ]
    },
    {
      "cell_type": "code",
      "execution_count": 21,
      "metadata": {
        "id": "Tbsx1T2CXPNO",
        "colab": {
          "base_uri": "https://localhost:8080/"
        },
        "outputId": "635c2697-a642-4021-a529-bbf20cc73169"
      },
      "outputs": [
        {
          "output_type": "stream",
          "name": "stdout",
          "text": [
            "So there is no way for me to plug it in here in the US unless I go by a converter.\n",
            "0\n",
            "\n",
            "\n",
            "Good case Excellent value.\n",
            "1\n",
            "\n",
            "\n"
          ]
        }
      ],
      "source": [
        "# Print some example sentences and labels\n",
        "for x in range(2):\n",
        "  print(sentences[x])\n",
        "  print(labels[x])\n",
        "  print(\"\\n\")"
      ]
    },
    {
      "cell_type": "code",
      "execution_count": 22,
      "metadata": {
        "id": "6NaicNCcLYyf",
        "colab": {
          "base_uri": "https://localhost:8080/"
        },
        "outputId": "5fce8006-6424-444e-a294-4ac2fae372ba"
      },
      "outputs": [
        {
          "output_type": "stream",
          "name": "stdout",
          "text": [
            "Vocab size is  999\n"
          ]
        }
      ],
      "source": [
        "import tensorflow_datasets as tfds\n",
        "\n",
        "vocab_size = 1000\n",
        "tokenizer = tfds.deprecated.text.SubwordTextEncoder.build_from_corpus(sentences, vocab_size, max_subword_length=5)\n",
        "\n",
        "# How big is the vocab size?\n",
        "print(\"Vocab size is \", tokenizer.vocab_size)"
      ]
    },
    {
      "cell_type": "code",
      "execution_count": 23,
      "metadata": {
        "id": "xvRVoeIVLevh",
        "colab": {
          "base_uri": "https://localhost:8080/"
        },
        "outputId": "033c479e-49e6-4ed4-8e6f-5da1de6700f8"
      },
      "outputs": [
        {
          "output_type": "stream",
          "name": "stdout",
          "text": [
            "I have to jiggle the plug to get it to line up right to get decent volume.\n",
            "[4, 31, 6, 849, 162, 450, 12, 1, 600, 438, 775, 6, 175, 14, 6, 55, 213, 159, 474, 775, 6, 175, 614, 380, 295, 148, 72, 789]\n"
          ]
        }
      ],
      "source": [
        "# Check that the tokenizer works appropriately\n",
        "num = 5\n",
        "print(sentences[num])\n",
        "encoded = tokenizer.encode(sentences[num])\n",
        "print(encoded)"
      ]
    },
    {
      "cell_type": "code",
      "execution_count": 24,
      "metadata": {
        "id": "G_vacTCifklV",
        "colab": {
          "base_uri": "https://localhost:8080/"
        },
        "outputId": "cc15a392-a050-4f59-d2a6-51cad45f17f1"
      },
      "outputs": [
        {
          "output_type": "stream",
          "name": "stdout",
          "text": [
            "I \n",
            "have \n",
            "to \n",
            "j\n",
            "ig\n",
            "gl\n",
            "e \n",
            "the \n",
            "pl\n",
            "ug\n",
            " \n",
            "to \n",
            "get \n",
            "it \n",
            "to \n",
            "li\n",
            "ne \n",
            "up \n",
            "right\n",
            " \n",
            "to \n",
            "get \n",
            "dec\n",
            "ent \n",
            "vo\n",
            "lu\n",
            "me\n",
            ".\n"
          ]
        }
      ],
      "source": [
        "# Separately print out each subword, decoded\n",
        "for i in encoded:\n",
        "  print(tokenizer.decode([i]))"
      ]
    },
    {
      "cell_type": "markdown",
      "metadata": {
        "id": "cT528cptLupl"
      },
      "source": [
        "## Replace sentence data with encoded subwords\n",
        "\n",
        "Now, we'll create the sequences to be used for training by actually encoding each of the individual sentences. This is equivalent to `text_to_sequences` with the `Tokenizer` we used in earlier exercises."
      ]
    },
    {
      "cell_type": "code",
      "execution_count": 25,
      "metadata": {
        "id": "lkseMhxjL09F"
      },
      "outputs": [],
      "source": [
        "for i, sentence in enumerate(sentences):\n",
        "  sentences[i] = tokenizer.encode(sentence)"
      ]
    },
    {
      "cell_type": "code",
      "execution_count": 26,
      "metadata": {
        "id": "y21yRuzmL43U",
        "colab": {
          "base_uri": "https://localhost:8080/"
        },
        "outputId": "5a2a36d5-9131-4aaa-8230-3c9dbaf1a6f2"
      },
      "outputs": [
        {
          "output_type": "stream",
          "name": "stdout",
          "text": [
            "[4, 31, 6, 849, 162, 450, 12, 1, 600, 438, 775, 6, 175, 14, 6, 55, 213, 159, 474, 775, 6, 175, 614, 380, 295, 148, 72, 789]\n"
          ]
        }
      ],
      "source": [
        "# Check the sentences are appropriately replaced\n",
        "print(sentences[5])"
      ]
    },
    {
      "cell_type": "markdown",
      "metadata": {
        "id": "8HrcPHESMBMs"
      },
      "source": [
        "## Final pre-processing\n",
        "\n",
        "Before training, we still need to pad the sequences, as well as split into training and test sets."
      ]
    },
    {
      "cell_type": "code",
      "execution_count": 27,
      "metadata": {
        "id": "50-hTsogLSL-"
      },
      "outputs": [],
      "source": [
        "import numpy as np\n",
        "\n",
        "max_length = 50\n",
        "trunc_type='post'\n",
        "padding_type='post'\n",
        "\n",
        "# Pad all sequences\n",
        "sequences_padded = pad_sequences(sentences, maxlen=max_length, \n",
        "                                 padding=padding_type, truncating=trunc_type)\n",
        "\n",
        "# Separate out the sentences and labels into training and test sets\n",
        "training_size = int(len(sentences) * 0.8)\n",
        "\n",
        "training_sequences = sequences_padded[0:training_size]\n",
        "testing_sequences = sequences_padded[training_size:]\n",
        "training_labels = labels[0:training_size]\n",
        "testing_labels = labels[training_size:]\n",
        "\n",
        "# Make labels into numpy arrays for use with the network later\n",
        "training_labels_final = np.array(training_labels)\n",
        "testing_labels_final = np.array(testing_labels)"
      ]
    },
    {
      "cell_type": "code",
      "execution_count": 28,
      "metadata": {
        "id": "Qg-maex27KPW"
      },
      "outputs": [],
      "source": [
        "# Use the model to predict some reviews   \n",
        "fake_reviews = [\"I love this phone\", \n",
        "                \"Everything was cold\",\n",
        "                \"Everything was hot exactly as I wanted\", \n",
        "                \"Everything was green\", \n",
        "                \"the host seated us immediately\",\n",
        "                \"they gave us free chocolate cake\", \n",
        "                \"we couldn't hear each other talk because of the shouting in the kitchen\"\n",
        "              ]\n",
        "\n",
        "# predict_review(model, fake_reviews)\n"
      ]
    },
    {
      "cell_type": "markdown",
      "metadata": {
        "id": "HhLPbUl2AZ0y"
      },
      "source": [
        "# Plot the accuracy and loss"
      ]
    },
    {
      "cell_type": "code",
      "execution_count": 29,
      "metadata": {
        "id": "jzBM1PpJAYfD"
      },
      "outputs": [],
      "source": [
        "import matplotlib.pyplot as plt\n",
        "\n",
        "\n",
        "def plot_graphs(history, string):\n",
        "  plt.plot(history.history[string])\n",
        "  plt.plot(history.history['val_'+string])\n",
        "  plt.xlabel(\"Epochs\")\n",
        "  plt.ylabel(string)\n",
        "  plt.legend([string, 'val_'+string])\n",
        "  plt.show()\n"
      ]
    },
    {
      "cell_type": "code",
      "execution_count": 30,
      "metadata": {
        "id": "aPNOYiiaha2y"
      },
      "outputs": [],
      "source": [
        "# Define a function to take a series of reviews\n",
        "# and predict whether each one is a positive or negative review\n",
        "\n",
        "# max_length = 100 # previously defined\n",
        "\n",
        "def predict_review(model, new_sentences, maxlen=max_length, show_padded_sequence=True ):\n",
        "  # Keep the original sentences so that we can keep using them later\n",
        "  # Create an array to hold the encoded sequences\n",
        "  new_sequences = []\n",
        "\n",
        "  # Convert the new reviews to sequences\n",
        "  for i, frvw in enumerate(new_sentences):\n",
        "    new_sequences.append(tokenizer.encode(frvw))\n",
        "\n",
        "  trunc_type='post' \n",
        "  padding_type='post'\n",
        "\n",
        "  # Pad all sequences for the new reviews\n",
        "  new_reviews_padded = pad_sequences(new_sequences, maxlen=max_length, \n",
        "                                 padding=padding_type, truncating=trunc_type)             \n",
        "\n",
        "  classes = model.predict(new_reviews_padded)\n",
        "\n",
        "  # The closer the class is to 1, the more positive the review is\n",
        "  for x in range(len(new_sentences)):\n",
        "    \n",
        "    # We can see the padded sequence if desired\n",
        "    # Print the sequence\n",
        "    if (show_padded_sequence):\n",
        "      print(new_reviews_padded[x])\n",
        "    # Print the review as text\n",
        "    print(new_sentences[x])\n",
        "    # Print its predicted class\n",
        "    print(classes[x])\n",
        "    print(\"\\n\")"
      ]
    },
    {
      "cell_type": "code",
      "execution_count": 31,
      "metadata": {
        "id": "PevUcINXK3gn"
      },
      "outputs": [],
      "source": [
        "def fit_model(model, sentences) :\n",
        "  num_epochs = 30\n",
        "  model.compile(loss='binary_crossentropy',optimizer='adam',metrics=['accuracy'])\n",
        "  model.summary()\n",
        "  history = model.fit(training_sequences, training_labels_final, epochs=num_epochs, \n",
        "                      validation_data=(testing_sequences, testing_labels_final))\n",
        "  return history\n",
        "\n",
        "def plot_results (history):\n",
        "  plot_graphs(history, \"accuracy\")\n",
        "  plot_graphs(history, \"loss\")\n",
        "\n",
        "def fit_model_and_results (model, sentences):\n",
        "  history = fit_model(model, sentences)\n",
        "  plot_results(history)\n",
        "  predict_review(model, sentences)"
      ]
    },
    {
      "cell_type": "code",
      "execution_count": 33,
      "metadata": {
        "id": "3N6Zul47PMED",
        "colab": {
          "base_uri": "https://localhost:8080/",
          "height": 1000
        },
        "outputId": "9bdd3a0e-06bc-4652-ad3b-4837bd6357c0"
      },
      "outputs": [
        {
          "output_type": "stream",
          "name": "stdout",
          "text": [
            "Model: \"sequential_2\"\n",
            "_________________________________________________________________\n",
            " Layer (type)                Output Shape              Param #   \n",
            "=================================================================\n",
            " embedding_2 (Embedding)     (None, 50, 16)            16000     \n",
            "                                                                 \n",
            " bidirectional_4 (Bidirectio  (None, 50, 32)           4224      \n",
            " nal)                                                            \n",
            "                                                                 \n",
            " bidirectional_5 (Bidirectio  (None, 32)               6272      \n",
            " nal)                                                            \n",
            "                                                                 \n",
            " dense_4 (Dense)             (None, 6)                 198       \n",
            "                                                                 \n",
            " dense_5 (Dense)             (None, 1)                 7         \n",
            "                                                                 \n",
            "=================================================================\n",
            "Total params: 26,701\n",
            "Trainable params: 26,701\n",
            "Non-trainable params: 0\n",
            "_________________________________________________________________\n",
            "Epoch 1/30\n",
            "50/50 [==============================] - 8s 41ms/step - loss: 0.6909 - accuracy: 0.5154 - val_loss: 0.7005 - val_accuracy: 0.4110\n",
            "Epoch 2/30\n",
            "50/50 [==============================] - 1s 15ms/step - loss: 0.6174 - accuracy: 0.6485 - val_loss: 0.6442 - val_accuracy: 0.7193\n",
            "Epoch 3/30\n",
            "50/50 [==============================] - 1s 14ms/step - loss: 0.4621 - accuracy: 0.8117 - val_loss: 0.6440 - val_accuracy: 0.6742\n",
            "Epoch 4/30\n",
            "50/50 [==============================] - 1s 15ms/step - loss: 0.3374 - accuracy: 0.8657 - val_loss: 0.5715 - val_accuracy: 0.7544\n",
            "Epoch 5/30\n",
            "50/50 [==============================] - 1s 15ms/step - loss: 0.2656 - accuracy: 0.9027 - val_loss: 0.5189 - val_accuracy: 0.7644\n",
            "Epoch 6/30\n",
            "50/50 [==============================] - 1s 15ms/step - loss: 0.2354 - accuracy: 0.9209 - val_loss: 0.6579 - val_accuracy: 0.7469\n",
            "Epoch 7/30\n",
            "50/50 [==============================] - 1s 15ms/step - loss: 0.1917 - accuracy: 0.9429 - val_loss: 0.6457 - val_accuracy: 0.7619\n",
            "Epoch 8/30\n",
            "50/50 [==============================] - 1s 15ms/step - loss: 0.1777 - accuracy: 0.9466 - val_loss: 0.6592 - val_accuracy: 0.7719\n",
            "Epoch 9/30\n",
            "50/50 [==============================] - 1s 15ms/step - loss: 0.1635 - accuracy: 0.9517 - val_loss: 0.8164 - val_accuracy: 0.7444\n",
            "Epoch 10/30\n",
            "50/50 [==============================] - 1s 14ms/step - loss: 0.1379 - accuracy: 0.9592 - val_loss: 0.8179 - val_accuracy: 0.7494\n",
            "Epoch 11/30\n",
            "50/50 [==============================] - 1s 14ms/step - loss: 0.1304 - accuracy: 0.9655 - val_loss: 0.8701 - val_accuracy: 0.7318\n",
            "Epoch 12/30\n",
            "50/50 [==============================] - 1s 15ms/step - loss: 0.1290 - accuracy: 0.9642 - val_loss: 0.8995 - val_accuracy: 0.7494\n",
            "Epoch 13/30\n",
            "50/50 [==============================] - 1s 15ms/step - loss: 0.1142 - accuracy: 0.9718 - val_loss: 0.9509 - val_accuracy: 0.7469\n",
            "Epoch 14/30\n",
            "50/50 [==============================] - 1s 15ms/step - loss: 0.0973 - accuracy: 0.9761 - val_loss: 0.8743 - val_accuracy: 0.7544\n",
            "Epoch 15/30\n",
            "50/50 [==============================] - 1s 15ms/step - loss: 0.1543 - accuracy: 0.9504 - val_loss: 0.7929 - val_accuracy: 0.7444\n",
            "Epoch 16/30\n",
            "50/50 [==============================] - 1s 15ms/step - loss: 0.1143 - accuracy: 0.9718 - val_loss: 0.9567 - val_accuracy: 0.7544\n",
            "Epoch 17/30\n",
            "50/50 [==============================] - 1s 15ms/step - loss: 0.0886 - accuracy: 0.9799 - val_loss: 1.0403 - val_accuracy: 0.7444\n",
            "Epoch 18/30\n",
            "50/50 [==============================] - 1s 14ms/step - loss: 0.0791 - accuracy: 0.9831 - val_loss: 1.1263 - val_accuracy: 0.7393\n",
            "Epoch 19/30\n",
            "50/50 [==============================] - 1s 15ms/step - loss: 0.0900 - accuracy: 0.9787 - val_loss: 1.0614 - val_accuracy: 0.7393\n",
            "Epoch 20/30\n",
            "50/50 [==============================] - 1s 14ms/step - loss: 0.0900 - accuracy: 0.9805 - val_loss: 1.1036 - val_accuracy: 0.7268\n",
            "Epoch 21/30\n",
            "50/50 [==============================] - 1s 14ms/step - loss: 0.0850 - accuracy: 0.9805 - val_loss: 1.0805 - val_accuracy: 0.7293\n",
            "Epoch 22/30\n",
            "50/50 [==============================] - 1s 15ms/step - loss: 0.1208 - accuracy: 0.9680 - val_loss: 1.0239 - val_accuracy: 0.7293\n",
            "Epoch 23/30\n",
            "50/50 [==============================] - 1s 15ms/step - loss: 0.1070 - accuracy: 0.9699 - val_loss: 0.8885 - val_accuracy: 0.7494\n",
            "Epoch 24/30\n",
            "50/50 [==============================] - 1s 15ms/step - loss: 0.0809 - accuracy: 0.9837 - val_loss: 1.0274 - val_accuracy: 0.7444\n",
            "Epoch 25/30\n",
            "50/50 [==============================] - 1s 15ms/step - loss: 0.0842 - accuracy: 0.9818 - val_loss: 1.0448 - val_accuracy: 0.7343\n",
            "Epoch 26/30\n",
            "50/50 [==============================] - 1s 15ms/step - loss: 0.0710 - accuracy: 0.9856 - val_loss: 1.1468 - val_accuracy: 0.7293\n",
            "Epoch 27/30\n",
            "50/50 [==============================] - 1s 15ms/step - loss: 0.0766 - accuracy: 0.9831 - val_loss: 0.9988 - val_accuracy: 0.7343\n",
            "Epoch 28/30\n",
            "50/50 [==============================] - 1s 15ms/step - loss: 0.0848 - accuracy: 0.9768 - val_loss: 1.0202 - val_accuracy: 0.7444\n",
            "Epoch 29/30\n",
            "50/50 [==============================] - 1s 15ms/step - loss: 0.0942 - accuracy: 0.9761 - val_loss: 1.0281 - val_accuracy: 0.7444\n",
            "Epoch 30/30\n",
            "50/50 [==============================] - 1s 15ms/step - loss: 0.0953 - accuracy: 0.9743 - val_loss: 1.1005 - val_accuracy: 0.7268\n"
          ]
        },
        {
          "output_type": "display_data",
          "data": {
            "text/plain": [
              "<Figure size 432x288 with 1 Axes>"
            ],
            "image/png": "[encoded data removed]"
          },
          "metadata": {
            "needs_background": "light"
          }
        },
        {
          "output_type": "display_data",
          "data": {
            "text/plain": [
              "<Figure size 432x288 with 1 Axes>"
            ],
            "image/png": "[encoded data removed]"
          },
          "metadata": {
            "needs_background": "light"
          }
        },
        {
          "output_type": "stream",
          "name": "stdout",
          "text": [
            "1/1 [==============================] - 1s 1s/step\n",
            "[  4 281  16  25   0   0   0   0   0   0   0   0   0   0   0   0   0   0\n",
            "   0   0   0   0   0   0   0   0   0   0   0   0   0   0   0   0   0   0\n",
            "   0   0   0   0   0   0   0   0   0   0   0   0   0   0]\n",
            "I love this phone\n",
            "[0.9972179]\n",
            "\n",
            "\n",
            "[812 227 864 100 775   9 525 843   0   0   0   0   0   0   0   0   0   0\n",
            "   0   0   0   0   0   0   0   0   0   0   0   0   0   0   0   0   0   0\n",
            "   0   0   0   0   0   0   0   0   0   0   0   0   0   0]\n",
            "Everything was cold\n",
            "[0.02677866]\n",
            "\n",
            "\n",
            "[812 227 864 100 775   9 109   8 333 731  24  61   4 171  59  77   0   0\n",
            "   0   0   0   0   0   0   0   0   0   0   0   0   0   0   0   0   0   0\n",
            "   0   0   0   0   0   0   0   0   0   0   0   0   0   0]\n",
            "Everything was hot exactly as I wanted\n",
            "[0.04402542]\n",
            "\n",
            "\n",
            "[812 227 864 100 775   9 157 359 853   0   0   0   0   0   0   0   0   0\n",
            "   0   0   0   0   0   0   0   0   0   0   0   0   0   0   0   0   0   0\n",
            "   0   0   0   0   0   0   0   0   0   0   0   0   0   0]\n",
            "Everything was green\n",
            "[0.02685469]\n",
            "\n",
            "\n",
            "[  1 109 228 540 237 635 241 423 340  89 298   0   0   0   0   0   0   0\n",
            "   0   0   0   0   0   0   0   0   0   0   0   0   0   0   0   0   0   0\n",
            "   0   0   0   0   0   0   0   0   0   0   0   0   0   0]\n",
            "the host seated us immediately\n",
            "[0.0598574]\n",
            "\n",
            "\n",
            "[154 242  47 635 341  12 569 547 147 319 775 125  85   0   0   0   0   0\n",
            "   0   0   0   0   0   0   0   0   0   0   0   0   0   0   0   0   0   0\n",
            "   0   0   0   0   0   0   0   0   0   0   0   0   0   0]\n",
            "they gave us free chocolate cake\n",
            "[0.9970464]\n",
            "\n",
            "\n",
            "[158 190 853 782   8 607 775 210 232 146 775 470  67 305 101  15   1 328\n",
            " 296  26  19   1 661 641 195   0   0   0   0   0   0   0   0   0   0   0\n",
            "   0   0   0   0   0   0   0   0   0   0   0   0   0   0]\n",
            "we couldn't hear each other talk because of the shouting in the kitchen\n",
            "[0.02767655]\n",
            "\n",
            "\n"
          ]
        }
      ],
      "source": [
        "embedding_dim = 16\n",
        "\n",
        "model_multiple_bidi_lstm = tf.keras.Sequential([\n",
        "    tf.keras.layers.Embedding(vocab_size, embedding_dim, input_length=max_length),\n",
        "    tf.keras.layers.Bidirectional(tf.keras.layers.LSTM(embedding_dim, \n",
        "                                                       return_sequences=True)), \n",
        "    tf.keras.layers.Bidirectional(tf.keras.layers.LSTM(embedding_dim)),\n",
        "    tf.keras.layers.Dense(6, activation='relu'),\n",
        "    tf.keras.layers.Dense(1,activation = \"sigmoid\")\n",
        "])\n",
        "\n",
        "# model_multiple_bidi_lstm.compile(loss = \"categorical_crossentropy\",optimizer = \"Adam\",metrics = [\"accuracy\"])\n",
        "fit_model_and_results(model_multiple_bidi_lstm,fake_reviews)"
      ]
    },
    {
      "cell_type": "code",
      "execution_count": 34,
      "metadata": {
        "id": "6XebrXt0jtOy"
      },
      "outputs": [],
      "source": [
        "my_reviews =[\"lovely\", \"dreadful\", \"stay away\",\n",
        "             \"everything was hot exactly as I wanted\",\n",
        "             \"everything was not exactly as I wanted\",\n",
        "             \"they gave us free chocolate cake\",\n",
        "             \"I've never eaten anything so spicy in my life, my throat burned for hours\",\n",
        "             \"for a phone that is as expensive as this one I expect it to be much easier to use than this thing is\",\n",
        "             \"we left there very full for a low price so I'd say you just can't go wrong at this place\",\n",
        "             \"that place does not have quality meals and it isn't a good place to go for dinner\",\n",
        "             ]"
      ]
    },
    {
      "cell_type": "code",
      "execution_count": 35,
      "metadata": {
        "id": "81v1r3Y2BwvC",
        "colab": {
          "base_uri": "https://localhost:8080/"
        },
        "outputId": "fd6550e9-bb11-4d7c-8e65-ca66e8d33007"
      },
      "outputs": [
        {
          "output_type": "stream",
          "name": "stdout",
          "text": [
            "===================================\n",
            " With two bidirectional LSTMs:\n",
            " ===================================\n",
            "1/1 [==============================] - 0s 18ms/step\n",
            "lovely\n",
            "[0.9973225]\n",
            "\n",
            "\n",
            "dreadful\n",
            "[0.02942437]\n",
            "\n",
            "\n",
            "stay away\n",
            "[0.03045408]\n",
            "\n",
            "\n",
            "everything was hot exactly as I wanted\n",
            "[0.95296925]\n",
            "\n",
            "\n",
            "everything was not exactly as I wanted\n",
            "[0.02678225]\n",
            "\n",
            "\n",
            "they gave us free chocolate cake\n",
            "[0.9970464]\n",
            "\n",
            "\n",
            "I've never eaten anything so spicy in my life, my throat burned for hours\n",
            "[0.0274653]\n",
            "\n",
            "\n",
            "for a phone that is as expensive as this one I expect it to be much easier to use than this thing is\n",
            "[0.02988424]\n",
            "\n",
            "\n",
            "we left there very full for a low price so I'd say you just can't go wrong at this place\n",
            "[0.02835772]\n",
            "\n",
            "\n",
            "that place does not have quality meals and it isn't a good place to go for dinner\n",
            "[0.02833106]\n",
            "\n",
            "\n"
          ]
        }
      ],
      "source": [
        "print(\"===================================\\n\",\"With two bidirectional LSTMs:\\n\", \"===================================\")\n",
        "predict_review(model_multiple_bidi_lstm, my_reviews, show_padded_sequence=False)"
      ]
    }
  ],
  "metadata": {
    "accelerator": "GPU",
    "colab": {
      "provenance": []
    },
    "kernelspec": {
      "display_name": "Python 3",
      "name": "python3"
    }
  },
  "nbformat": 4,
  "nbformat_minor": 0
}